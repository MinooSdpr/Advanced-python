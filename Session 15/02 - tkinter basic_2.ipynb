{
 "cells": [
  {
   "cell_type": "markdown",
   "metadata": {},
   "source": [
    "# Tkinter: Buttons"
   ]
  },
  {
   "cell_type": "markdown",
   "metadata": {},
   "source": [
    "1. anchor\n",
    "\n",
    "* Purpose:  Determines the alignment of the button's content within its boundaries.\n",
    "* Values:  Use keywords like NW (northwest), NE (northeast), S (south), E (east), center, etc.\n",
    "\n",
    "2. image\n",
    "\n",
    "* Purpose:  Displays an image on the button.\n",
    "* Value: A PhotoImage object."
   ]
  },
  {
   "cell_type": "code",
   "execution_count": 40,
   "metadata": {},
   "outputs": [],
   "source": [
    "from tkinter import Tk, Button, PhotoImage\n",
    "root = Tk()\n",
    "image = PhotoImage(file=\"image.png\")\n",
    "button = Button(root, image=image, text=\"Click Me\")\n",
    "button.pack()\n",
    "root.mainloop()\n",
    "   \n"
   ]
  },
  {
   "cell_type": "markdown",
   "metadata": {},
   "source": [
    "3. bitmap\n",
    "\n",
    "* Purpose:  Displays a built-in bitmap image on the button.\n",
    "* Values:  Use standard bitmap names like error, gray12, hourglass, question, etc.\n",
    "\n",
    "4. justify\n",
    "\n",
    "* Purpose:  Controls how text is aligned within the button (only for text-based buttons).\n",
    "* Values:  LEFT, RIGHT, CENTER\n",
    "\n",
    "5. bd\n",
    "\n",
    "* Purpose:  Sets the border width of the button (in pixels).\n",
    "* Value: An integer.\n",
    "\n",
    "6. compound\n",
    "\n",
    "* Purpose:  Determines how the image and text are combined in the button.\n",
    "* Values: \n",
    "   - LEFT, RIGHT, TOP, BOTTOM:  The image is placed on the specified side of the text.\n",
    "   - CENTER: The image is centered on top of the text.\n",
    "\n",
    "7. state\n",
    "\n",
    "* Purpose:  Controls the button's enabled/disabled state.\n",
    "* Values:\n",
    "   - NORMAL (default): The button is interactive.\n",
    "   - DISABLED: The button is grayed out and non-interactive.\n",
    "   - ACTIVE:  The button appears in its highlighted state when the mouse hovers over it.\n"
   ]
  },
  {
   "cell_type": "code",
   "execution_count": 42,
   "metadata": {},
   "outputs": [],
   "source": [
    "from tkinter import Tk, Button, StringVar\n",
    "root = Tk()\n",
    "text_var = StringVar()\n",
    "text_var.set(\"Initial Text\") \n",
    "button = Button(root, textvariable=text_var)\n",
    "button.pack()\n",
    "text_var.set(\"New Text\")  \n",
    "root.mainloop()\n",
    "   \n"
   ]
  },
  {
   "cell_type": "code",
   "execution_count": 49,
   "metadata": {},
   "outputs": [
    {
     "name": "stdout",
     "output_type": "stream",
     "text": [
      "Button clicked!\n",
      "Button clicked!\n"
     ]
    }
   ],
   "source": [
    "import tkinter as tk\n",
    "from tkinter import PhotoImage\n",
    "\n",
    "def button_clicked():\n",
    "    print(\"Button clicked!\")\n",
    "\n",
    "root = tk.Tk()\n",
    "root.title(\"Button Features Example\")\n",
    "\n",
    "\n",
    "text_var = tk.StringVar()\n",
    "text_var.set(\"Click Me!\")\n",
    "\n",
    "\n",
    "button = tk.Button(\n",
    "    root,\n",
    "    textvariable=text_var,  \n",
    "    command=button_clicked,  \n",
    "    compound=\"left\",        \n",
    "    anchor=\"center\",          \n",
    "    justify=\"center\",        \n",
    "    bd=3,                   \n",
    "    state=\"normal\",          \n",
    "    bitmap=\"question\",        \n",
    ")\n",
    "\n",
    "button.pack(pady=20)\n",
    "\n",
    "# Update the text variable after a 2-second delay\n",
    "root.after(2000, lambda: text_var.set(\"New Text!\"))\n",
    "\n",
    "root.mainloop()\n"
   ]
  },
  {
   "cell_type": "code",
   "execution_count": 22,
   "metadata": {},
   "outputs": [],
   "source": [
    "from tkinter import *\n",
    "import time"
   ]
  },
  {
   "cell_type": "code",
   "execution_count": 23,
   "metadata": {},
   "outputs": [],
   "source": [
    "root = Tk()"
   ]
  },
  {
   "cell_type": "code",
   "execution_count": 24,
   "metadata": {},
   "outputs": [],
   "source": [
    "def start_button():\n",
    "    print(\"Start Button Work\")"
   ]
  },
  {
   "cell_type": "code",
   "execution_count": 25,
   "metadata": {},
   "outputs": [],
   "source": [
    "def stop_button():\n",
    "    print(\"Stop Button Work\")"
   ]
  },
  {
   "cell_type": "code",
   "execution_count": 26,
   "metadata": {},
   "outputs": [],
   "source": [
    "button_start = Button(root, text=\"start\", width=15, command=start_button)\n",
    "\n",
    "button_stop = Button(root, text=\"stop\", width=15, command=stop_button)\n",
    "\n",
    "button_start.pack() # side ,[ fill = Y ,X,None,BOTH],[expand = 0,1] , \n",
    "button_stop.pack()"
   ]
  },
  {
   "cell_type": "code",
   "execution_count": 27,
   "metadata": {},
   "outputs": [],
   "source": [
    "root.mainloop()"
   ]
  },
  {
   "cell_type": "markdown",
   "metadata": {},
   "source": [
    "## Button Methods\n",
    "\n",
    "1. config()\n",
    "\n",
    "* Purpose:  Changes the configuration of an existing button. It's like a \"setter\" for button attributes.\n",
    "* Syntax:  button.config(attribute1=value1, attribute2=value2, ...)\n",
    "\n"
   ]
  },
  {
   "cell_type": "code",
   "execution_count": 50,
   "metadata": {},
   "outputs": [],
   "source": [
    "import tkinter as tk\n",
    "root = tk.Tk()\n",
    "button = tk.Button(root, text=\"Click Me\")\n",
    "button.pack()\n",
    "\n",
    "button.config(fg=\"blue\") \n",
    "\n",
    "button.config(font=(\"Arial\", 14, \"bold\")) \n",
    "\n",
    "root.mainloop()\n",
    "   \n"
   ]
  },
  {
   "cell_type": "markdown",
   "metadata": {},
   "source": [
    "2. invoke()\n",
    "\n",
    "* Purpose:  Simulates a click event on the button. Useful for testing or automating button actions.\n",
    "* Syntax: button.invoke()"
   ]
  },
  {
   "cell_type": "code",
   "execution_count": 52,
   "metadata": {},
   "outputs": [
    {
     "name": "stdout",
     "output_type": "stream",
     "text": [
      "Button clicked!\n",
      "Button clicked!\n",
      "Button clicked!\n"
     ]
    }
   ],
   "source": [
    "import tkinter as tk\n",
    "def button_clicked():\n",
    "    print(\"Button clicked!\")\n",
    "\n",
    "root = tk.Tk()\n",
    "button = tk.Button(root, text=\"Click Me\", command=button_clicked)\n",
    "button.pack()\n",
    "\n",
    "# Simulate a click without the user actually clicking\n",
    "button.invoke()  \n",
    "\n",
    "root.mainloop()\n",
    "   \n"
   ]
  },
  {
   "cell_type": "markdown",
   "metadata": {},
   "source": [
    "3. flash()\n",
    "\n",
    "* Purpose:  Causes the button to flash (change color briefly) to draw the user's attention. \n",
    "* Syntax: button.flash()"
   ]
  },
  {
   "cell_type": "code",
   "execution_count": 59,
   "metadata": {
    "scrolled": false
   },
   "outputs": [
    {
     "name": "stdout",
     "output_type": "stream",
     "text": [
      "Button clicked!\n",
      "Button clicked!\n",
      "Button clicked!\n",
      "Button clicked!\n",
      "Button clicked!\n",
      "Button clicked!\n",
      "Button clicked!\n",
      "Button clicked!\n"
     ]
    }
   ],
   "source": [
    "import tkinter as tk\n",
    "\n",
    "def button_clicked():\n",
    "    print(\"Button clicked!\")\n",
    "\n",
    "def flash_button():\n",
    "    button.flash()\n",
    "    # Schedule the next flash after 2 seconds\n",
    "    root.after(2000, flash_button)\n",
    "\n",
    "root = tk.Tk()\n",
    "root.title(\"Button Flash Example\")\n",
    "\n",
    "button = tk.Button(root, text=\"Click Me\",bg = 'red', command=button_clicked)\n",
    "button.pack(pady=20)\n",
    "\n",
    "# Start the flashing process\n",
    "flash_button()\n",
    "\n",
    "root.mainloop()\n"
   ]
  },
  {
   "cell_type": "markdown",
   "metadata": {},
   "source": [
    "## Events\n",
    "The [bind](https://www.pythontutorial.net/tkinter/tkinter-event-binding/) method is essential for creating interactive elements in your Tkinter applications. It allows you to connect events (like mouse clicks, key presses, or window resizing) to functions that you define. "
   ]
  },
  {
   "cell_type": "code",
   "execution_count": 1,
   "metadata": {
    "scrolled": true
   },
   "outputs": [
    {
     "name": "stdout",
     "output_type": "stream",
     "text": [
      "Button clicked at coordinates: (44, 14)\n",
      "Button clicked at coordinates: (40, 13)\n",
      "Button clicked at coordinates: (32, 22)\n",
      "Button clicked at coordinates: (34, 11)\n",
      "Button clicked at coordinates: (32, 10)\n",
      "Button clicked at coordinates: (23, 11)\n",
      "Button clicked at coordinates: (20, 14)\n",
      "Button clicked at coordinates: (19, 15)\n",
      "Button clicked at coordinates: (27, 22)\n",
      "Button clicked at coordinates: (27, 21)\n",
      "Button clicked at coordinates: (6, 20)\n",
      "Button clicked at coordinates: (56, 23)\n",
      "Button clicked at coordinates: (53, 0)\n",
      "Button clicked at coordinates: (1, 2)\n"
     ]
    }
   ],
   "source": [
    "import tkinter as tk\n",
    "\n",
    "def button_clicked(event):\n",
    "    print(f\"Button clicked at coordinates: ({event.x}, {event.y})\")\n",
    "\n",
    "root = tk.Tk()\n",
    "\n",
    "my_button = tk.Button(root, text=\"Click Me\")\n",
    "my_button.pack()\n",
    "\n",
    "my_button.bind(\"<Button-1>\", button_clicked)  # Bind to left mouse click\n",
    "\n",
    "root.mainloop()\n",
    "   \n"
   ]
  },
  {
   "cell_type": "code",
   "execution_count": 2,
   "metadata": {},
   "outputs": [
    {
     "name": "stdout",
     "output_type": "stream",
     "text": [
      "You pressed: g\n",
      "You pressed: f\n",
      "You pressed: h\n",
      "You pressed: \n",
      "You pressed: \n",
      "You pressed: j\n",
      "You pressed: j\n",
      "You pressed: j\n",
      "You pressed: k\n",
      "You pressed: ;\n"
     ]
    }
   ],
   "source": [
    "import tkinter as tk\n",
    "\n",
    "def handle_key_press(event):\n",
    "    print(f\"You pressed: {event.char}\")\n",
    "\n",
    "root = tk.Tk()\n",
    "\n",
    "my_entry = tk.Entry(root)\n",
    "my_entry.pack()\n",
    "\n",
    "root.bind(\"<KeyRelease>\", handle_key_press)  # Bind to any key release\n",
    "\n",
    "root.mainloop()\n",
    "   \n"
   ]
  },
  {
   "cell_type": "code",
   "execution_count": 3,
   "metadata": {},
   "outputs": [],
   "source": [
    "import tkinter as tk\n",
    "\n",
    "def button_click(number):\n",
    "    current = entry.get()\n",
    "    entry.delete(0, tk.END)  # Clear the entry\n",
    "    entry.insert(0, current + str(number)) \n",
    "\n",
    "def clear():\n",
    "    entry.delete(0, tk.END)\n",
    "\n",
    "def calculate():\n",
    "    try:\n",
    "        result = eval(entry.get())\n",
    "        entry.delete(0, tk.END)\n",
    "        entry.insert(0, result)\n",
    "    except:\n",
    "        entry.delete(0, tk.END)\n",
    "        entry.insert(0, \"Error\")\n",
    "\n",
    "root = tk.Tk()\n",
    "root.title(\"Simple Calculator\")\n",
    "\n",
    "entry = tk.Entry(root, width=20, borderwidth=5)\n",
    "entry.grid(row=0, column=0, columnspan=4, padx=10, pady=10)\n",
    "\n",
    "# Number buttons\n",
    "button_1 = tk.Button(root, text=\"1\", width=5, command=lambda: button_click(\"1\"))\n",
    "button_1.grid(row=1, column=0)\n",
    "button_2 = tk.Button(root, text=\"2\", width=5, command=lambda: button_click(\"2\"))\n",
    "button_2.grid(row=1, column=1)\n",
    "\n",
    "# Operators\n",
    "button_add = tk.Button(root, text=\"+\", width=5, command=lambda: button_click(\"+\"))\n",
    "button_add.grid(row=1, column=3)\n",
    "\n",
    "button_clear = tk.Button(root, text=\"C\", width=5, command=clear)\n",
    "button_clear.grid(row=4, column=0)\n",
    "\n",
    "button_equal = tk.Button(root, text=\"=\", width=5, command=calculate)\n",
    "button_equal.grid(row=4, column=3)\n",
    "\n",
    "root.mainloop()"
   ]
  },
  {
   "cell_type": "code",
   "execution_count": 8,
   "metadata": {
    "scrolled": true
   },
   "outputs": [
    {
     "name": "stdout",
     "output_type": "stream",
     "text": [
      "You pressed 'c'!  This event has been intercepted.\n",
      "You pressed 'c'!  This event has been intercepted.\n",
      "You pressed 'c'!  This event has been intercepted.\n",
      "You pressed 'c'!  This event has been intercepted.\n",
      "You pressed 'c'!  This event has been intercepted.\n"
     ]
    }
   ],
   "source": [
    "import tkinter as tk\n",
    "\n",
    "def handle_key_press(event):\n",
    "    if event.char == \"c\":\n",
    "        print(\"You pressed 'c'!  This event has been intercepted.\")\n",
    "        return \"break\"  # Stop the event from propagating further\n",
    "\n",
    "root = tk.Tk()\n",
    "\n",
    "# Bind to the root window for global key press handling\n",
    "root.bind(\"<KeyRelease>\", handle_key_press)\n",
    "\n",
    "# Create a label (or any other widget you want)\n",
    "my_label = tk.Label(root, text=\"This is a label\")\n",
    "my_label.pack()\n",
    "\n",
    "\n",
    "root.mainloop()\n",
    "\n"
   ]
  },
  {
   "cell_type": "markdown",
   "metadata": {},
   "source": [
    "## Frame"
   ]
  },
  {
   "cell_type": "markdown",
   "metadata": {},
   "source": [
    "* width:  Specifies the width of the frame in pixels.\n",
    "* height: Specifies the height of the frame in pixels.\n",
    "* bg: Sets the background color of the frame. You can use color names (e.g., 'red', 'blue', 'green') or hexadecimal color codes (e.g., '#FF0000' for red).\n",
    "* bd: Sets the border width of the frame in pixels.\n",
    "* relief: Determines the style of the frame's border (e.g., FLAT, RAISED, SUNKEN, GROOVE, RIDGE).\n",
    "* highlightthickness: Specifies the thickness of the highlight border (a decorative outline around the frame).\n",
    "* highlightcolor: Sets the color of the highlight border.\n",
    "* cursor: Defines the mouse cursor style when hovering over the frame (e.g., 'arrow', 'crosshair', 'hand2').\n",
    "* highlightbackground:  Sets the background color of the highlight border."
   ]
  },
  {
   "cell_type": "code",
   "execution_count": 8,
   "metadata": {},
   "outputs": [],
   "source": [
    "from tkinter import *\n",
    "\n",
    "root = Tk()\n",
    "frame = tk.Frame(root, width=300, height=200, bg='blue', bd=5, relief='flat')\n",
    "frame.pack()\n",
    "root.mainloop()\n"
   ]
  },
  {
   "cell_type": "markdown",
   "metadata": {},
   "source": [
    "# Tkinter: Entry"
   ]
  },
  {
   "cell_type": "markdown",
   "metadata": {},
   "source": [
    "Entry widget used for taking input form user in text <br>\n",
    "This widget allows the user to enter a single line of text<br>\n",
    "If user enter a string longer than the available display space of widget, the content will be scrolled using arrow keys.<br> If you want to enter multiple line of text then you have to use text widget. An entry widget is also limited to single font"
   ]
  },
  {
   "cell_type": "markdown",
   "metadata": {},
   "source": [
    "* bg: Sets the background color of the entry field. Use color names ('red', 'blue') or hex codes ('#FF0000').\n",
    "* fg: Sets the foreground color (text color) of the entry field.  Same color formats as bg.\n",
    "* width:  Determines the width of the entry field in characters.\n",
    "* font: Sets the font for the text within the entry. You can use font names (e.g., 'Arial', 'Times New Roman') or specify a font tuple (('Arial', 12, 'bold') for Arial, 12pt, bold).\n",
    "* justify:  Controls how text is aligned within the entry: 'left', 'center', 'right'.\n",
    "* bd: Sets the border width of the entry field.\n",
    "* relief: Defines the style of the entry's border (e.g., FLAT, RAISED, SUNKEN, GROOVE, RIDGE).\n",
    "* highlightthickness: Controls the thickness of the highlight border (a decorative outline).\n",
    "* show:  Specifies a character to display instead of the actual text typed in (e.g., show='*' for password fields).\n",
    "* state:  Enables or disables the entry field. Valid states are 'normal', 'disabled', 'readonly'.\n",
    "* validate: Controls input validation. Set it to 'key', 'focus', or 'focusin' to trigger validation on different events.\n",
    "* validatecommand: A callback function that is executed during validation. Use it to define custom validation rules.\n",
    "* invalidcommand:  A callback function that is executed if validation fails.\n",
    "* readonlybackground: Sets the background color when the entry field is in read-only mode.\n",
    "* readonlyforeground: Sets the text color when the entry field is in read-only mode.\n",
    "* selectbackground:  Sets the background color when text is selected.\n",
    "* selectforeground:  Sets the foreground color (text color) when text is selected.\n",
    "* selectborderwidth:  Controls the border width when text is selected.\n",
    "* cursor:  Defines the mouse cursor style when hovering over the entry (e.g., 'arrow', 'crosshair', 'hand2').\n",
    "* insertbackground: Sets the color of the insertion cursor (the blinking vertical line that indicates where text will be inserted).\n",
    "* insertborderwidth:  Controls the width of the insertion cursor."
   ]
  },
  {
   "cell_type": "code",
   "execution_count": 18,
   "metadata": {},
   "outputs": [],
   "source": [
    "from tkinter import *\n",
    "root = Tk()\n",
    "root.title(\"Basic Entry Widget\")\n",
    "ent = Entry(root, \n",
    "            selectbackground = 'red',\n",
    "            selectforeground='yellow',\n",
    "               width=20, \n",
    "               bg='lightblue', \n",
    "               fg='darkblue', \n",
    "               bd=3,\n",
    "               relief='sunken',\n",
    "               show='*', # Password input\n",
    "               justify='center')\n",
    "\n",
    "ent.place(x = 100, y = 200)"
   ]
  },
  {
   "cell_type": "code",
   "execution_count": 19,
   "metadata": {},
   "outputs": [],
   "source": [
    "def show_data():\n",
    "    print(ent.get())\n",
    "Button(root,\n",
    "      text=\"Show Data\",\n",
    "      command=show_data).pack(expand = 4)"
   ]
  },
  {
   "cell_type": "code",
   "execution_count": 20,
   "metadata": {},
   "outputs": [],
   "source": [
    "root.mainloop()"
   ]
  },
  {
   "cell_type": "code",
   "execution_count": null,
   "metadata": {},
   "outputs": [],
   "source": []
  },
  {
   "cell_type": "markdown",
   "metadata": {},
   "source": [
    "## Radio Button"
   ]
  },
  {
   "cell_type": "markdown",
   "metadata": {},
   "source": [
    "Radio Button, sometime called option button, which allow user to choose one of predefine set of options.<br>\n",
    "Radio button can contain text or images\n"
   ]
  },
  {
   "cell_type": "code",
   "execution_count": 7,
   "metadata": {},
   "outputs": [
    {
     "data": {
      "text/plain": [
       "''"
      ]
     },
     "execution_count": 7,
     "metadata": {},
     "output_type": "execute_result"
    }
   ],
   "source": [
    "from tkinter import *\n",
    "root = Tk()\n",
    "root.title(\"Radio Button\")"
   ]
  },
  {
   "cell_type": "code",
   "execution_count": 8,
   "metadata": {},
   "outputs": [],
   "source": [
    "Label(root, text=\"Select True or False\", justify=LEFT).pack()"
   ]
  },
  {
   "cell_type": "markdown",
   "metadata": {},
   "source": [
    "#### Variables in Tkinter:\n",
    "    - StringVar() : Hold a string and default value is \"\"\n",
    "    - IntVar()    : Hold a integer and default value is 0\n",
    "    - DoubleVar() : Hold a float and default value is 0.0\n",
    "    - BooleanVar(): Hold a boolean and return True or False\n",
    "    "
   ]
  },
  {
   "cell_type": "code",
   "execution_count": 9,
   "metadata": {},
   "outputs": [],
   "source": [
    "data = BooleanVar()\n",
    "\n",
    "def data_print():\n",
    "    print(data.get())"
   ]
  },
  {
   "cell_type": "code",
   "execution_count": 10,
   "metadata": {},
   "outputs": [],
   "source": [
    "true_button = Radiobutton(root, text = \"Ture\",variable=data,value= True, padx=20,\n",
    "                          pady=5,\n",
    "                          command = data_print)\n",
    "\n",
    "false_button = Radiobutton(root, text = \"False\", variable=data, value= False, padx=20,\n",
    "                           pady=5,\n",
    "                           command = data_print)\n",
    "true_button.pack()\n",
    "false_button.pack()"
   ]
  },
  {
   "cell_type": "code",
   "execution_count": 11,
   "metadata": {
    "scrolled": true
   },
   "outputs": [
    {
     "name": "stdout",
     "output_type": "stream",
     "text": [
      "True\n",
      "False\n",
      "True\n"
     ]
    }
   ],
   "source": [
    "root.mainloop()"
   ]
  },
  {
   "cell_type": "code",
   "execution_count": 21,
   "metadata": {},
   "outputs": [],
   "source": [
    "import tkinter as tk\n",
    "from tkinter import ttk\n",
    "\n",
    "def display_selection():\n",
    "    \"\"\"Displays the selected radiobutton value.\"\"\"\n",
    "    selected_value = var.get()\n",
    "    label[\"text\"] = f\"Selected option: {selected_value}\"\n",
    "\n",
    "# Create main window\n",
    "root = tk.Tk()\n",
    "root.title(\"Radiobutton Example\")\n",
    "\n",
    "# Create variable for radiobutton values\n",
    "var = tk.StringVar(value=\"Option 1\")  # Default value set to \"Option 1\"\n",
    "\n",
    "# Create radiobutton group\n",
    "radio1 = ttk.Radiobutton(root, text=\"Option 1\", variable=var, value=\"Option 1\", command=display_selection)\n",
    "radio1.pack()\n",
    "radio2 = ttk.Radiobutton(root, text=\"Option 2\", variable=var, value=\"Option 2\", command=display_selection)\n",
    "radio2.pack()\n",
    "radio3 = ttk.Radiobutton(root, text=\"Option 3\", variable=var, value=\"Option 3\", command=display_selection)\n",
    "radio3.pack()\n",
    "\n",
    "label = tk.Label(root, text=\"Selected option: Option 1\")\n",
    "label.pack()\n",
    "\n",
    "root.mainloop()\n"
   ]
  }
 ],
 "metadata": {
  "kernelspec": {
   "display_name": "Python 3 (ipykernel)",
   "language": "python",
   "name": "python3"
  },
  "language_info": {
   "codemirror_mode": {
    "name": "ipython",
    "version": 3
   },
   "file_extension": ".py",
   "mimetype": "text/x-python",
   "name": "python",
   "nbconvert_exporter": "python",
   "pygments_lexer": "ipython3",
   "version": "3.10.6"
  }
 },
 "nbformat": 4,
 "nbformat_minor": 2
}
