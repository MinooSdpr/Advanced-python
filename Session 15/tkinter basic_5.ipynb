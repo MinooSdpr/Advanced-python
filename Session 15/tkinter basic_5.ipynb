{
 "cells": [
  {
   "cell_type": "markdown",
   "id": "8fca6fd8-09ca-4348-93f5-a77c42f291eb",
   "metadata": {},
   "source": [
    "# Combobox\n",
    "\n",
    "- values:\n",
    "\n",
    "A list of options that will appear in the dropdown. This can be set during initialization or updated later.\n",
    "\n",
    "- textvariable:\n",
    "\n",
    "A Tkinter variable that can be used to get or set the current value of the Combobox. This is useful for dynamic updates.\n",
    "\n",
    "- .current(index):\n",
    "\n",
    "Sets the current selection to the specified index. If you want to select an item by its index in the values list, use this method.\n",
    "Example: `combobox.current(1)`"
   ]
  },
  {
   "cell_type": "code",
   "execution_count": 4,
   "id": "3c3d8c03-f960-4c47-bd82-df8204c13a98",
   "metadata": {},
   "outputs": [
    {
     "name": "stdout",
     "output_type": "stream",
     "text": [
      "Selected: Apple\n"
     ]
    }
   ],
   "source": [
    "import tkinter as tk\n",
    "from tkinter import ttk\n",
    "\n",
    "def on_select(event):\n",
    "    print(f\"Selected: {combobox.get()}\")\n",
    "\n",
    "root = tk.Tk()\n",
    "root.title(\"Combobox Example\")\n",
    "\n",
    "combobox = ttk.Combobox(root, values=[\"Apple\", \"Banana\", \"Cherry\"])\n",
    "combobox.set(\"Select a fruit\")\n",
    "combobox.bind(\"<<ComboboxSelected>>\", on_select)\n",
    "combobox.pack(pady=20)\n",
    "\n",
    "combobox['state'] = 'normal'  # 'readonly', 'normal', or 'disabled'\n",
    "combobox['width'] = 20\n",
    "\n",
    "root.mainloop()\n"
   ]
  },
  {
   "cell_type": "code",
   "execution_count": 5,
   "id": "60faf432-7794-40e5-9e6c-b1ed7b39bd6b",
   "metadata": {},
   "outputs": [],
   "source": [
    "import tkinter as tk\n",
    "from tkinter import ttk\n",
    "from tkinter import messagebox\n",
    "\n",
    "root = tk.Tk()\n",
    "root.title(\"Favorite Fruit Selector\")\n",
    "root.geometry(\"300x200\")\n",
    "\n",
    "fruits = {\n",
    "    \"Apple\": \"An apple a day keeps the doctor away!\",\n",
    "    \"Banana\": \"Bananas are berries, but strawberries aren't!\",\n",
    "    \"Cherry\": \"Cherries are a good source of antioxidants.\",\n",
    "    \"Grape\": \"Grapes can be fermented to make wine.\",\n",
    "    \"Orange\": \"Oranges are a great source of Vitamin C.\"\n",
    "}\n",
    "\n",
    "fruit_combobox = ttk.Combobox(root, values=list(fruits.keys()))\n",
    "fruit_combobox.set(\"Select your favorite fruit\")  \n",
    "fruit_combobox.pack(pady=20)\n",
    "\n",
    "def show_fruit_fact(event):\n",
    "    selected_fruit = fruit_combobox.get()\n",
    "    if selected_fruit in fruits:\n",
    "        fact = fruits[selected_fruit]\n",
    "        messagebox.showinfo(\"Fun Fact\", fact)\n",
    "\n",
    "fruit_combobox.bind(\"<<ComboboxSelected>>\", show_fruit_fact)\n",
    "\n",
    "root.mainloop()\n"
   ]
  },
  {
   "cell_type": "markdown",
   "id": "81125ab2-1d2d-489f-b13c-162ad0aa8397",
   "metadata": {},
   "source": [
    "# Spinbox\n",
    "- from_:\n",
    "\n",
    "    Sets the minimum value for the Spinbox. The user cannot select a value lower than this.\n",
    "- to:\n",
    "\n",
    "    Sets the maximum value for the Spinbox. The user cannot select a value higher than this.\n",
    "    Example: `spinbox = tk.Spinbox(root, from_=1, to=10)`\n",
    "- increment (or width for visual spacing):\n",
    "\n",
    "    Specifies the amount by which the value changes when the up/down arrows are clicked. If not specified, the default is 1.\n",
    "    Example: `spinbox = tk.Spinbox(root, from_=1, to=10, increment=2)`"
   ]
  },
  {
   "cell_type": "code",
   "execution_count": null,
   "id": "3a20f473-48ea-464b-8ce6-ce4137ae7cad",
   "metadata": {},
   "outputs": [
    {
     "name": "stdout",
     "output_type": "stream",
     "text": [
      "Selected value: 10\n"
     ]
    }
   ],
   "source": [
    "import tkinter as tk\n",
    "\n",
    "def show_value():\n",
    "    print(f\"Selected value: {spinbox.get()}\")\n",
    "\n",
    "root = tk.Tk()\n",
    "root.title(\"Spinbox Example\")\n",
    "\n",
    "spinbox = tk.Spinbox(root, from_=1, to=10, increment=1, width=5, font=(\"Arial\", 12))\n",
    "spinbox.pack(pady=20)\n",
    "\n",
    "button = tk.Button(root, text=\"Show Value\", command=show_value)\n",
    "button.pack(pady=10)\n",
    "\n",
    "root.mainloop()\n"
   ]
  },
  {
   "cell_type": "code",
   "execution_count": 7,
   "id": "c0dab10a-72e0-4a8f-8953-62034e8d3149",
   "metadata": {},
   "outputs": [],
   "source": [
    "import tkinter as tk\n",
    "from tkinter import messagebox\n",
    "\n",
    "root = tk.Tk()\n",
    "root.title(\"Cupcake Order\")\n",
    "root.geometry(\"300x200\")\n",
    "\n",
    "label = tk.Label(root, text=\"Select number of cupcakes:\")\n",
    "label.pack(pady=10)\n",
    "\n",
    "spinbox = tk.Spinbox(root, from_=1, to=20, increment=1)\n",
    "spinbox.pack(pady=10)\n",
    "\n",
    "cost_per_cupcake = 2.5 \n",
    "\n",
    "def calculate_cost():\n",
    "    quantity = int(spinbox.get())\n",
    "    total_cost = quantity * cost_per_cupcake\n",
    "    messagebox.showinfo(\"Total Cost\", f\"Your total cost for {quantity} cupcakes is: ${total_cost:.2f}\")\n",
    "\n",
    "order_button = tk.Button(root, text=\"Calculate Cost\", command=calculate_cost)\n",
    "order_button.pack(pady=20)\n",
    "\n",
    "root.mainloop()\n"
   ]
  },
  {
   "cell_type": "markdown",
   "id": "f65fcda7-2dd6-4f86-91dc-4968b4533c3f",
   "metadata": {},
   "source": [
    "# Menubutton\n",
    "\n"
   ]
  },
  {
   "cell_type": "code",
   "execution_count": 8,
   "id": "418cb575",
   "metadata": {},
   "outputs": [],
   "source": [
    "import tkinter as tk\n",
    "from tkinter import Menu\n",
    "\n",
    "def show_selection(selection):\n",
    "    print(f\"You selected: {selection}\")\n",
    "\n",
    "root = tk.Tk()\n",
    "root.title(\"Menubutton Example\")\n",
    "\n",
    "menubutton = tk.Menubutton(root, text=\"Options\", relief=tk.RAISED)\n",
    "menubutton.pack(pady=20)\n",
    "\n",
    "menu = Menu(menubutton, tearoff=0)\n",
    "\n",
    "menu.add_command(label=\"Option 1\", command=lambda: show_selection(\"Option 1\"))\n",
    "menu.add_command(label=\"Option 2\", command=lambda: show_selection(\"Option 2\"))\n",
    "\n",
    "submenu = Menu(menu, tearoff=0)\n",
    "submenu.add_command(label=\"Suboption 1\", command=lambda: show_selection(\"Suboption 1\"))\n",
    "submenu.add_command(label=\"Suboption 2\", command=lambda: show_selection(\"Suboption 2\"))\n",
    "menu.add_cascade(label=\"More Options\", menu=submenu)\n",
    "\n",
    "menu.entryconfig(1, state=tk.DISABLED)\n",
    "menubutton.config(menu=menu)\n",
    "menubutton.pack()\n",
    "\n",
    "root.mainloop()\n"
   ]
  },
  {
   "cell_type": "code",
   "execution_count": 9,
   "id": "1e637aba-1595-4427-b81c-20586ae2b4a9",
   "metadata": {},
   "outputs": [],
   "source": [
    "import tkinter as tk\n",
    "from tkinter import Menu, messagebox\n",
    "\n",
    "root = tk.Tk()\n",
    "root.title(\"Ice Cream Flavor Selector\")\n",
    "root.geometry(\"300x200\")\n",
    "\n",
    "selected_flavor = tk.StringVar(value=\"Select your favorite flavor\")\n",
    "\n",
    "def show_flavor_fact(flavor):\n",
    "    facts = {\n",
    "        \"Chocolate\": \"Chocolate is the most popular ice cream flavor in the world!\",\n",
    "        \"Vanilla\": \"Vanilla is derived from orchids, and it's the second most popular flavor.\",\n",
    "        \"Strawberry\": \"Strawberries are packed with antioxidants!\",\n",
    "        \"Mint\": \"Mint ice cream was first created in the 19th century!\",\n",
    "        \"Cookie Dough\": \"Cookie dough ice cream is a favorite for those who love a sweet surprise!\"\n",
    "    }\n",
    "    messagebox.showinfo(\"Fun Fact\", facts.get(flavor, \"No fact available!\"))\n",
    "\n",
    "menu_button = tk.Menubutton(root, textvariable=selected_flavor, relief=tk.RAISED)\n",
    "menu_button.pack(pady=20)\n",
    "\n",
    "menu = Menu(menu_button, tearoff=0)\n",
    "\n",
    "flavors = [\"Chocolate\", \"Vanilla\", \"Strawberry\", \"Mint\", \"Cookie Dough\"]\n",
    "for flavor in flavors:\n",
    "    menu.add_command(label=flavor, command=lambda f=flavor: show_flavor_fact(f))\n",
    "\n",
    "menu_button['menu'] = menu\n",
    "\n",
    "root.mainloop()\n"
   ]
  },
  {
   "cell_type": "markdown",
   "id": "2ff3d758",
   "metadata": {},
   "source": [
    "# PanedWindow"
   ]
  },
  {
   "cell_type": "code",
   "execution_count": 16,
   "id": "ebe7a287",
   "metadata": {},
   "outputs": [],
   "source": [
    "import tkinter as tk\n",
    "\n",
    "def change_text():\n",
    "    if label_var.get() == \"Hello!\":\n",
    "        label_var.set(\"You clicked the button!\")\n",
    "    else:\n",
    "        label_var.set(\"Hello!\")\n",
    "\n",
    "root = tk.Tk()\n",
    "root.title(\"Fun PanedWindow Example\")\n",
    "\n",
    "paned_window = tk.PanedWindow(root, orient=tk.HORIZONTAL, bg=\"lightgray\")\n",
    "paned_window.pack(fill=tk.BOTH, expand=True)\n",
    "\n",
    "left_frame = tk.Frame(paned_window, bg=\"lightblue\", width=200)\n",
    "label_var = tk.StringVar(value=\"Hello!\")\n",
    "label = tk.Label(left_frame, textvariable=label_var, font=(\"Helvetica\", 16), bg=\"lightblue\")\n",
    "label.pack(padx=20, pady=20)\n",
    "\n",
    "paned_window.add(left_frame)\n",
    "\n",
    "right_frame = tk.Frame(paned_window, bg=\"lightgreen\", width=200)\n",
    "button = tk.Button(right_frame, text=\"Click Me!\", command=change_text)\n",
    "button.pack(padx=20, pady=20)\n",
    "\n",
    "paned_window.add(right_frame)\n",
    "\n",
    "root.mainloop()\n"
   ]
  },
  {
   "cell_type": "code",
   "execution_count": 17,
   "id": "64fb1f30",
   "metadata": {},
   "outputs": [],
   "source": [
    "import tkinter as tk\n",
    "\n",
    "def create_paned_window():\n",
    "    root = tk.Tk()\n",
    "    root.title(\"PanedWindow Example\")\n",
    "\n",
    "    paned_window = tk.PanedWindow(root, orient=tk.HORIZONTAL, bg=\"lightgray\")\n",
    "    paned_window.pack(fill=tk.BOTH, expand=True)\n",
    "\n",
    "    left_frame = tk.Frame(paned_window, bg=\"lightblue\", width=200)\n",
    "    paned_window.add(left_frame)\n",
    "\n",
    "    right_frame = tk.Frame(paned_window, bg=\"lightgreen\", width=200)\n",
    "    paned_window.add(right_frame)\n",
    "\n",
    "    tk.Label(left_frame, text=\"Left Pane\").pack(padx=10, pady=10)\n",
    "    tk.Label(right_frame, text=\"Right Pane\").pack(padx=10, pady=10)\n",
    "\n",
    "    root.mainloop()\n",
    "\n",
    "create_paned_window()\n"
   ]
  },
  {
   "cell_type": "markdown",
   "id": "4ca4a6b6",
   "metadata": {},
   "source": [
    "# Text\n",
    "\n",
    "**Tags:** Apply formatting to specific sections of text using tags. You can set different colors, fonts, and styles for tagged text.   \n",
    "**Tag Methods:** Methods like tag_add(tag_name, start_index, end_index) and tag_config(tag_name, options) help manage tags."
   ]
  },
  {
   "cell_type": "code",
   "execution_count": 18,
   "id": "abe896d6",
   "metadata": {},
   "outputs": [],
   "source": [
    "import tkinter as tk\n",
    "from tkinter import scrolledtext\n",
    "\n",
    "def insert_text():\n",
    "    text_widget.insert(tk.END, \"Hello, Tkinter!\\n\")\n",
    "\n",
    "def clear_text():\n",
    "    text_widget.delete(1.0, tk.END)\n",
    "\n",
    "root = tk.Tk()\n",
    "root.title(\"Text Widget Example\")\n",
    "\n",
    "text_widget = scrolledtext.ScrolledText(root, width=40, height=10, font=(\"Arial\", 12))\n",
    "text_widget.pack(padx=10, pady=10)\n",
    "\n",
    "insert_button = tk.Button(root, text=\"Insert Text\", command=insert_text)\n",
    "insert_button.pack(side=tk.LEFT, padx=5)\n",
    "\n",
    "clear_button = tk.Button(root, text=\"Clear Text\", command=clear_text)\n",
    "clear_button.pack(side=tk.LEFT, padx=5)\n",
    "\n",
    "root.mainloop()\n"
   ]
  },
  {
   "cell_type": "code",
   "execution_count": null,
   "id": "e2efa58c-1f20-4257-8845-e14d705471dd",
   "metadata": {},
   "outputs": [],
   "source": []
  }
 ],
 "metadata": {
  "kernelspec": {
   "display_name": "base",
   "language": "python",
   "name": "python3"
  },
  "language_info": {
   "codemirror_mode": {
    "name": "ipython",
    "version": 3
   },
   "file_extension": ".py",
   "mimetype": "text/x-python",
   "name": "python",
   "nbconvert_exporter": "python",
   "pygments_lexer": "ipython3",
   "version": "3.12.4"
  }
 },
 "nbformat": 4,
 "nbformat_minor": 5
}
