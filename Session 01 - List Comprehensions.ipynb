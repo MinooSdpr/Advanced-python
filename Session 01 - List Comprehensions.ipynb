{
 "cells": [
  {
   "cell_type": "markdown",
   "metadata": {
    "collapsed": true
   },
   "source": [
    "# List Comprehensions\n",
    "\n",
    "\n",
    "list comprehensions allow you to generate lists based on existing iterables (such as lists, tuples, strings, etc.) in a single line of code. You can think of it as essentially a one line <code>for</code> loop built inside of brackets. \n",
    "## Example 1"
   ]
  },
  {
   "cell_type": "code",
   "execution_count": 1,
   "metadata": {},
   "outputs": [
    {
     "name": "stdout",
     "output_type": "stream",
     "text": [
      "[1, 4, 1156, 529, 100]\n"
     ]
    }
   ],
   "source": [
    "lst1 = [1,2,34,23,10]\n",
    "square = []\n",
    "for i in lst1:\n",
    "    square.append(i**2)\n",
    "print(square)"
   ]
  },
  {
   "cell_type": "code",
   "execution_count": 2,
   "metadata": {},
   "outputs": [
    {
     "name": "stdout",
     "output_type": "stream",
     "text": [
      "[1, 4, 1156, 529, 100]\n"
     ]
    }
   ],
   "source": [
    "lst1 = [1,2,34,23,10]\n",
    "square = [i**2 for i in lst1]\n",
    "print(square)"
   ]
  },
  {
   "cell_type": "code",
   "execution_count": 5,
   "metadata": {},
   "outputs": [
    {
     "data": {
      "text/plain": [
       "(0, 1, 2, 3, 4, 5, 6, 7, 8, 9)"
      ]
     },
     "execution_count": 5,
     "metadata": {},
     "output_type": "execute_result"
    }
   ],
   "source": [
    "tuple(range(10))"
   ]
  },
  {
   "cell_type": "code",
   "execution_count": 6,
   "metadata": {},
   "outputs": [
    {
     "name": "stdout",
     "output_type": "stream",
     "text": [
      "[0, 2, 4, 6, 8, 10, 12, 14, 16, 18]\n"
     ]
    }
   ],
   "source": [
    "# Grab every letter in string\n",
    "lst2 = list(range(10))\n",
    "lst = [x*2 for x in lst2]\n",
    "print(lst)"
   ]
  },
  {
   "cell_type": "code",
   "execution_count": 7,
   "metadata": {},
   "outputs": [
    {
     "name": "stdout",
     "output_type": "stream",
     "text": [
      "Enter a word: salam\n",
      "['s', 'a', 'l', 'a', 'm']\n"
     ]
    }
   ],
   "source": [
    "lst = []\n",
    "st = input(\"Enter a word: \")\n",
    "for i in st:\n",
    "    lst.append(i)\n",
    "print(lst)"
   ]
  },
  {
   "cell_type": "code",
   "execution_count": 8,
   "metadata": {},
   "outputs": [
    {
     "name": "stdout",
     "output_type": "stream",
     "text": [
      "Enter a word: salam\n",
      "['s', 'a', 'l', 'a', 'm']\n"
     ]
    }
   ],
   "source": [
    "st = input(\"Enter a word: \")\n",
    "lst = [i for i in st]\n",
    "print(lst)"
   ]
  },
  {
   "cell_type": "markdown",
   "metadata": {},
   "source": [
    "## Example 2"
   ]
  },
  {
   "cell_type": "code",
   "execution_count": 9,
   "metadata": {},
   "outputs": [],
   "source": [
    "import random as r\n",
    "randlst = []\n",
    "for i in range(10):\n",
    "    randlst.append(r.randint(1,50))"
   ]
  },
  {
   "cell_type": "code",
   "execution_count": 10,
   "metadata": {},
   "outputs": [
    {
     "name": "stdout",
     "output_type": "stream",
     "text": [
      "[43, 10, 50, 8, 29, 1, 42, 30, 49, 28]\n"
     ]
    }
   ],
   "source": [
    "print(randlst)"
   ]
  },
  {
   "cell_type": "code",
   "execution_count": 11,
   "metadata": {},
   "outputs": [
    {
     "name": "stdout",
     "output_type": "stream",
     "text": [
      "[27, 44, 9, 20, 47, 15, 18, 33, 36, 1]\n"
     ]
    }
   ],
   "source": [
    "randlst = [r.randint(1,50) for i in range(10)]\n",
    "print(randlst)"
   ]
  },
  {
   "cell_type": "markdown",
   "metadata": {},
   "source": [
    "## Example 3"
   ]
  },
  {
   "cell_type": "code",
   "execution_count": 16,
   "metadata": {},
   "outputs": [
    {
     "name": "stdout",
     "output_type": "stream",
     "text": [
      "[0, 2, 4, 6, 8, 10]\n"
     ]
    }
   ],
   "source": [
    "# Check for even numbers in a range\n",
    "lst = [x for x in range(11) if x % 2 == 0]\n",
    "print(lst)"
   ]
  },
  {
   "cell_type": "code",
   "execution_count": 1,
   "metadata": {},
   "outputs": [],
   "source": [
    "LST = []\n",
    "for x in range(11):\n",
    "    if x % 2 == 0:\n",
    "        LST.append(x)"
   ]
  },
  {
   "cell_type": "code",
   "execution_count": 2,
   "metadata": {},
   "outputs": [
    {
     "data": {
      "text/plain": [
       "[0, 2, 4, 6, 8, 10]"
      ]
     },
     "execution_count": 2,
     "metadata": {},
     "output_type": "execute_result"
    }
   ],
   "source": [
    "LST"
   ]
  },
  {
   "cell_type": "markdown",
   "metadata": {},
   "source": [
    "## Example 4\n"
   ]
  },
  {
   "cell_type": "code",
   "execution_count": 18,
   "metadata": {},
   "outputs": [
    {
     "data": {
      "text/plain": [
       "[32.0, 50.0, 68.18, 94.1]"
      ]
     },
     "execution_count": 18,
     "metadata": {},
     "output_type": "execute_result"
    }
   ],
   "source": [
    "# Convert Celsius to Fahrenheit\n",
    "celsius = [0,10,20.1,34.5]\n",
    "\n",
    "fahrenheit = [((9/5)*temp + 32) for temp in celsius ]\n",
    "\n",
    "fahrenheit"
   ]
  },
  {
   "cell_type": "code",
   "execution_count": 19,
   "metadata": {},
   "outputs": [
    {
     "name": "stdout",
     "output_type": "stream",
     "text": [
      "[32.0, 50.0, 68.18, 94.1]\n"
     ]
    }
   ],
   "source": [
    "fah = []\n",
    "for temp in celsius:\n",
    "    fah.append((9/5)*temp + 32)\n",
    "print(fah)"
   ]
  },
  {
   "cell_type": "markdown",
   "metadata": {},
   "source": [
    "## Example 5"
   ]
  },
  {
   "cell_type": "code",
   "execution_count": 8,
   "metadata": {},
   "outputs": [
    {
     "data": {
      "text/plain": [
       "[0, 1, 16, 81, 256, 625, 1296, 2401, 4096, 6561, 10000]"
      ]
     },
     "execution_count": 8,
     "metadata": {},
     "output_type": "execute_result"
    }
   ],
   "source": [
    "lst = [ x**2 for x in [x**2 for x in range(11)]]\n",
    "lst"
   ]
  },
  {
   "cell_type": "code",
   "execution_count": 21,
   "metadata": {},
   "outputs": [],
   "source": [
    "lst = [1,2,3,1,22,123]\n",
    "lst2 = [4,5,6]\n",
    "result = []\n",
    "for i,j in zip(lst2,lst):\n",
    "    result.append(i+j)"
   ]
  },
  {
   "cell_type": "code",
   "execution_count": 22,
   "metadata": {},
   "outputs": [
    {
     "name": "stdout",
     "output_type": "stream",
     "text": [
      "[5, 7, 9]\n"
     ]
    }
   ],
   "source": [
    "print(result)"
   ]
  },
  {
   "cell_type": "code",
   "execution_count": 24,
   "metadata": {},
   "outputs": [
    {
     "name": "stdout",
     "output_type": "stream",
     "text": [
      "[5, 7, 9]\n"
     ]
    }
   ],
   "source": [
    "lst = [1,2,3,1,22,123]\n",
    "lst2 = [4,5,6]\n",
    "result = []\n",
    "\n",
    "length = min((len(lst),len(lst2)))\n",
    "\n",
    "for i in range(length):\n",
    "    result.append(lst[i]+lst2[i])\n",
    "print(result)"
   ]
  },
  {
   "cell_type": "code",
   "execution_count": 34,
   "metadata": {},
   "outputs": [
    {
     "name": "stdout",
     "output_type": "stream",
     "text": [
      "[(1, 4), (2, 5), (3, 6)]\n",
      "1-4\n",
      "2-5\n",
      "3-6\n"
     ]
    }
   ],
   "source": [
    "l1 = list(zip(lst,lst2))\n",
    "print(l1)\n",
    "for i,j in l1:\n",
    "    print(i,end = '-')\n",
    "    print(j)"
   ]
  },
  {
   "cell_type": "code",
   "execution_count": 44,
   "metadata": {},
   "outputs": [
    {
     "name": "stdout",
     "output_type": "stream",
     "text": [
      "[5, 7, 9]\n"
     ]
    }
   ],
   "source": [
    "lst = [1,2,3,1,22,123]\n",
    "lst2 = [4,5,6]\n",
    "result = (i+j for i,j in zip(lst,lst2))\n",
    "print(list(result))"
   ]
  },
  {
   "cell_type": "markdown",
   "metadata": {},
   "source": [
    "## Example 6"
   ]
  },
  {
   "cell_type": "code",
   "execution_count": 21,
   "metadata": {},
   "outputs": [
    {
     "name": "stdout",
     "output_type": "stream",
     "text": [
      "[5, 7, 9]\n"
     ]
    }
   ],
   "source": [
    "list1 = [1,2,3]\n",
    "list2 = [4,5,6]\n",
    "\n",
    "list3 = [a + b for a,b in zip(list1,list2)]\n",
    "\n",
    "print(list3)"
   ]
  },
  {
   "cell_type": "code",
   "execution_count": 24,
   "metadata": {},
   "outputs": [
    {
     "name": "stdout",
     "output_type": "stream",
     "text": [
      "[5, 7, 9]\n"
     ]
    }
   ],
   "source": [
    "sUM = []\n",
    "for i in range(len(list1)):\n",
    "    \n",
    "    sUM.append(list1[i]+list2[i])\n",
    "print(sUM)"
   ]
  },
  {
   "cell_type": "code",
   "execution_count": 22,
   "metadata": {},
   "outputs": [
    {
     "data": {
      "text/plain": [
       "[(1, 4), (2, 5), (3, 6)]"
      ]
     },
     "execution_count": 22,
     "metadata": {},
     "output_type": "execute_result"
    }
   ],
   "source": [
    "list(zip(list1,list2))"
   ]
  },
  {
   "cell_type": "markdown",
   "metadata": {},
   "source": [
    "**Create a list comprehension that filters a list of strings and keeps only the strings that start with a vowel ('a', 'e', 'i', 'o', 'u').**"
   ]
  },
  {
   "cell_type": "code",
   "execution_count": 38,
   "metadata": {},
   "outputs": [
    {
     "name": "stdout",
     "output_type": "stream",
     "text": [
      "['orange']\n"
     ]
    }
   ],
   "source": [
    "words = [\"apple\", \"banana\", \"kiwi\", \"orange\", \"grape\", \"pear\"]\n",
    "\n",
    "vowel_words = [word for word in words if word[0] in ['a', 'e', 'i', 'o', 'u'] and len(word)%2==0]\n",
    "print(vowel_words)"
   ]
  },
  {
   "cell_type": "markdown",
   "metadata": {},
   "source": [
    "**Write a list comprehension that flattens a list of lists into a single list. For example, given nested_list = [[1, 2, 3], [4, 5, 6], [7, 8, 9]], write a list comprehension that would output [1, 2, 3, 4, 5, 6, 7, 8, 9].**"
   ]
  },
  {
   "cell_type": "code",
   "execution_count": 45,
   "metadata": {},
   "outputs": [
    {
     "name": "stdout",
     "output_type": "stream",
     "text": [
      "[1, 2, 3, 4, 5, 6, 7, 8, 9]\n"
     ]
    }
   ],
   "source": [
    "l1 = [[1, 2, 3], [4, 5, 6], [7, 8, 9]]\n",
    "l3 = [[4, 2, 5], [5, 5, 7], [7, 10, 9]]\n",
    "l2 = [num for sublist in l1 for num in sublist]\n",
    "print(l2)"
   ]
  },
  {
   "cell_type": "code",
   "execution_count": 36,
   "metadata": {},
   "outputs": [
    {
     "name": "stdout",
     "output_type": "stream",
     "text": [
      "[1, 2, 3, 4, 5, 6, 7, 8, 9]\n",
      "[8, 1, 3, 2, 6, 4, 9, 7, 5]\n"
     ]
    }
   ],
   "source": [
    "l2 = []\n",
    "for sublist in l1:\n",
    "    for num in sublist:\n",
    "        l2.append(num)\n",
    "print(l2)\n",
    "r.shuffle(l2)\n",
    "print(l2)"
   ]
  },
  {
   "cell_type": "markdown",
   "metadata": {},
   "source": [
    "**Take a list of numbers as input and returns a new list containing only the odd numbers from the original list using list comprehension.**"
   ]
  },
  {
   "cell_type": "code",
   "execution_count": 32,
   "metadata": {},
   "outputs": [
    {
     "name": "stdout",
     "output_type": "stream",
     "text": [
      "[16, 7, 70, 26, 3, 30, 30, 43, 73, 98, 4, 23, 11, 36, 96, 7, 66, 49, 69, 63]\n",
      "[7, 3, 43, 73, 23, 11, 7, 49, 69, 63]\n"
     ]
    }
   ],
   "source": [
    "import random as r\n",
    "l = [r.randint(1,100) for i in range(20)]\n",
    "print(l)\n",
    "lst = [x for x in l if x%2 != 0]\n",
    "print(lst)"
   ]
  },
  {
   "cell_type": "markdown",
   "metadata": {},
   "source": [
    "## Set Comprehensions: \n",
    "You can create sets using set comprehensions. The syntax is similar to list comprehensions, but with curly braces <code>{}</code> instead of square brackets <code>[]</code>. Set comprehensions eliminate duplicate values."
   ]
  },
  {
   "cell_type": "code",
   "execution_count": 1,
   "metadata": {},
   "outputs": [
    {
     "name": "stdout",
     "output_type": "stream",
     "text": [
      "{0, 1, 64, 4, 36, 9, 16, 49, 81, 25}\n"
     ]
    }
   ],
   "source": [
    "unique_squares = {x**2 for x in range(10)}\n",
    "print(unique_squares)"
   ]
  },
  {
   "cell_type": "markdown",
   "metadata": {},
   "source": [
    "## Dictionary Comprehensions: \n",
    "With dictionary comprehensions, you can create dictionaries. The syntax involves key-value pairs separated by a colon <code>:</code> inside curly braces <code>{}</code>."
   ]
  },
  {
   "cell_type": "code",
   "execution_count": 42,
   "metadata": {},
   "outputs": [
    {
     "name": "stdout",
     "output_type": "stream",
     "text": [
      "{'A': 1, 'B': 4, 'C': 9, 'D': 16, 'E': 25}\n"
     ]
    }
   ],
   "source": [
    "square_dict = {chr(x+64) : x**2 for x in range(1, 6)}\n",
    "print(square_dict)"
   ]
  },
  {
   "cell_type": "code",
   "execution_count": 42,
   "metadata": {},
   "outputs": [
    {
     "name": "stdout",
     "output_type": "stream",
     "text": [
      "{'key 1': 1, 'key 2': 4, 'key 3': 9, 'key 4': 16, 'key 5': 25}\n"
     ]
    }
   ],
   "source": [
    "square_dict = {'key '+str(x): x**2 for x in range(1, 6)}\n",
    "print(square_dict)"
   ]
  },
  {
   "cell_type": "markdown",
   "metadata": {},
   "source": [
    "## Generator Expressions:\n",
    "These are similar to list comprehensions but return a generator object instead of a list. Generator expressions are more memory efficient as they generate values on-the-fly, and you can iterate over them without storing the entire sequence in memory."
   ]
  },
  {
   "cell_type": "code",
   "execution_count": 47,
   "metadata": {},
   "outputs": [
    {
     "data": {
      "text/plain": [
       "[([1, 2, 3], [4, 2, 5]), ([4, 5, 6], [5, 5, 7]), ([7, 8, 9], [7, 10, 9])]"
      ]
     },
     "execution_count": 47,
     "metadata": {},
     "output_type": "execute_result"
    }
   ],
   "source": [
    "list(zip(l1,l3))"
   ]
  },
  {
   "cell_type": "code",
   "execution_count": 49,
   "metadata": {
    "scrolled": true
   },
   "outputs": [
    {
     "name": "stdout",
     "output_type": "stream",
     "text": [
      "[0, 1, 4, 9, 16, 25, 36, 49, 64, 81]\n"
     ]
    }
   ],
   "source": [
    "squared_gen = (x**2 for x in range(10))\n",
    "print(list(squared_gen))"
   ]
  },
  {
   "cell_type": "code",
   "execution_count": 10,
   "metadata": {},
   "outputs": [
    {
     "data": {
      "text/plain": [
       "<generator object <genexpr> at 0x000001B17A09DD90>"
      ]
     },
     "execution_count": 10,
     "metadata": {},
     "output_type": "execute_result"
    }
   ],
   "source": [
    "squared_gen"
   ]
  },
  {
   "cell_type": "code",
   "execution_count": null,
   "metadata": {},
   "outputs": [],
   "source": []
  }
 ],
 "metadata": {
  "kernelspec": {
   "display_name": "Python 3 (ipykernel)",
   "language": "python",
   "name": "python3"
  },
  "language_info": {
   "codemirror_mode": {
    "name": "ipython",
    "version": 3
   },
   "file_extension": ".py",
   "mimetype": "text/x-python",
   "name": "python",
   "nbconvert_exporter": "python",
   "pygments_lexer": "ipython3",
   "version": "3.10.6"
  }
 },
 "nbformat": 4,
 "nbformat_minor": 1
}
