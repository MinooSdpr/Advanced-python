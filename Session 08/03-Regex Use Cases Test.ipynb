{
 "cells": [
  {
   "cell_type": "markdown",
   "id": "b383356f",
   "metadata": {},
   "source": [
    "# Regex Use Cases"
   ]
  },
  {
   "cell_type": "code",
   "execution_count": 1,
   "id": "af857b00",
   "metadata": {},
   "outputs": [],
   "source": [
    "import re\n",
    "\n",
    "random_text = '''\n",
    "My name is Mr. Neo. My phone number is 123-456-7890. My email is ChosenOne@gmail.com\n",
    "My name is Mr. Morphius. My phone number is 413-234-2568. My email is CoolGuy@yahoo.com. \n",
    "My name is Mrs. Trinity. My phone number is 285-036-8215. My email is ChosenOnesGirl1@apple.com.\n",
    "'''"
   ]
  },
  {
   "cell_type": "code",
   "execution_count": 2,
   "id": "adfa8b2c",
   "metadata": {},
   "outputs": [
    {
     "data": {
      "text/plain": [
       "['gmail', 'yahoo', 'apple']"
      ]
     },
     "execution_count": 2,
     "metadata": {},
     "output_type": "execute_result"
    }
   ],
   "source": []
  },
  {
   "cell_type": "code",
   "execution_count": 3,
   "id": "202d1183",
   "metadata": {},
   "outputs": [
    {
     "data": {
      "text/plain": [
       "['gmail.com', 'yahoo.com.', 'apple.com.']"
      ]
     },
     "execution_count": 3,
     "metadata": {},
     "output_type": "execute_result"
    }
   ],
   "source": []
  },
  {
   "cell_type": "code",
   "execution_count": 4,
   "id": "41375adb",
   "metadata": {},
   "outputs": [
    {
     "data": {
      "text/plain": [
       "['ChosenOne@gmail.com', 'CoolGuy@yahoo.com.', 'ChosenOnesGirl1@apple.com.']"
      ]
     },
     "execution_count": 4,
     "metadata": {},
     "output_type": "execute_result"
    }
   ],
   "source": []
  },
  {
   "cell_type": "code",
   "execution_count": 5,
   "id": "56f35608",
   "metadata": {},
   "outputs": [
    {
     "data": {
      "text/plain": [
       "['123-456-7890', '413-234-2568', '285-036-8215']"
      ]
     },
     "execution_count": 5,
     "metadata": {},
     "output_type": "execute_result"
    }
   ],
   "source": []
  },
  {
   "cell_type": "code",
   "execution_count": 6,
   "id": "c8cc1e5e",
   "metadata": {},
   "outputs": [],
   "source": [
    "my_list = ['ChosenOne@gmail.com', 'CoolGuy@yahoo.com.', 'ChosenOnesGirl1@apple.com.']"
   ]
  },
  {
   "cell_type": "code",
   "execution_count": 7,
   "id": "5d3e2f33",
   "metadata": {},
   "outputs": [
    {
     "name": "stdout",
     "output_type": "stream",
     "text": [
      "['gmail.com']\n",
      "['yahoo.com.']\n",
      "['apple.com.']\n"
     ]
    }
   ],
   "source": []
  },
  {
   "cell_type": "code",
   "execution_count": 8,
   "id": "2b3cd5c7",
   "metadata": {},
   "outputs": [
    {
     "name": "stdout",
     "output_type": "stream",
     "text": [
      "['gmail.com', 'yahoo.com.', 'apple.com.']\n"
     ]
    }
   ],
   "source": []
  }
 ],
 "metadata": {
  "kernelspec": {
   "display_name": "Python 3 (ipykernel)",
   "language": "python",
   "name": "python3"
  },
  "language_info": {
   "codemirror_mode": {
    "name": "ipython",
    "version": 3
   },
   "file_extension": ".py",
   "mimetype": "text/x-python",
   "name": "python",
   "nbconvert_exporter": "python",
   "pygments_lexer": "ipython3",
   "version": "3.10.6"
  }
 },
 "nbformat": 4,
 "nbformat_minor": 5
}
