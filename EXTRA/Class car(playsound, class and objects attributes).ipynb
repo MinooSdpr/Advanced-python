{
 "cells": [
  {
   "cell_type": "code",
   "execution_count": 3,
   "id": "4ca45373-1124-4175-a41e-bf6bde580acd",
   "metadata": {},
   "outputs": [
    {
     "name": "stdout",
     "output_type": "stream",
     "text": [
      "Collecting playsound3\n",
      "  Downloading playsound3-3.2.8-py3-none-any.whl.metadata (4.6 kB)\n",
      "Requirement already satisfied: pywin32 in c:\\users\\pc-gam\\appdata\\roaming\\python\\python312\\site-packages (from playsound3) (306)\n",
      "Downloading playsound3-3.2.8-py3-none-any.whl (9.7 kB)\n",
      "Installing collected packages: playsound3\n",
      "Successfully installed playsound3-3.2.8\n"
     ]
    }
   ],
   "source": [
    "!pip install playsound3"
   ]
  },
  {
   "cell_type": "code",
   "execution_count": 7,
   "id": "aaf13340-68b8-482e-94db-9d47a39c6655",
   "metadata": {},
   "outputs": [],
   "source": [
    "from playsound3 import playsound\n",
    "\n",
    "class Car:\n",
    "    numberofwheels = 4\n",
    "    def __init__(self, model, color, maxspeed):\n",
    "        self.model = model\n",
    "        self.color = color\n",
    "        self.max_speed = maxspeed\n",
    "    def horn(self):\n",
    "        playsound('car-honk.mp3')\n",
    "    def info(self):\n",
    "        print(f'Car model: {self.model}')\n",
    "        print(f'Car max speed: {self.max_speed}')\n",
    "        print(f'Color of the car: {self.color}')"
   ]
  },
  {
   "cell_type": "code",
   "execution_count": 9,
   "id": "fad92ed5-51ba-407b-a1b8-0f2c1ef4f07c",
   "metadata": {},
   "outputs": [],
   "source": [
    "car1 = Car('X61', 80, 'White')\n",
    "car1.horn()"
   ]
  },
  {
   "cell_type": "code",
   "execution_count": 11,
   "id": "8cf24fed-788c-4b1b-aabf-fd2145b89e2c",
   "metadata": {},
   "outputs": [
    {
     "data": {
      "text/plain": [
       "{'model': 'X61', 'color': 80, 'max_speed': 'White'}"
      ]
     },
     "execution_count": 11,
     "metadata": {},
     "output_type": "execute_result"
    }
   ],
   "source": [
    "car1.__dict__"
   ]
  },
  {
   "cell_type": "code",
   "execution_count": 13,
   "id": "892c2d5e-f0ac-4657-b735-65ac1eb423a2",
   "metadata": {},
   "outputs": [
    {
     "data": {
      "text/plain": [
       "4"
      ]
     },
     "execution_count": 13,
     "metadata": {},
     "output_type": "execute_result"
    }
   ],
   "source": [
    "car1.numberofwheels"
   ]
  },
  {
   "cell_type": "code",
   "execution_count": 15,
   "id": "1b78ead6-6dd4-4b07-9ac1-690bd00633f2",
   "metadata": {},
   "outputs": [
    {
     "name": "stdout",
     "output_type": "stream",
     "text": [
      "6\n",
      "4\n"
     ]
    }
   ],
   "source": [
    "car1.numberofwheels = 6\n",
    "print(car1.numberofwheels)\n",
    "print(Car.numberofwheels)"
   ]
  },
  {
   "cell_type": "code",
   "execution_count": null,
   "id": "96c031b5-3671-418d-9a6b-be817de8c6e7",
   "metadata": {},
   "outputs": [],
   "source": [
    "def constructor(self, arg):\n",
    "    self.constructor_arg = arg\n",
    "\n",
    "def displayMethod(self, arg):\n",
    "    print(arg)\n",
    "\n",
    "@classmethod\n",
    "def classMethod(cls, arg):\n",
    "    print(arg)\n",
    "\n",
    "# creating class dynamically\n",
    "Geeks = type(\"Geeks\", (object, ), {\n",
    "\n",
    "    \"__init__\": constructor,\n",
    "    \n",
    "\n",
    "    \"string_attribute\": \"Geeks 4 geeks !\",\n",
    "    \"int_attribute\": 1706256,\n",
    "    \n",
    "\n",
    "    \"func_arg\": displayMethod,\n",
    "    \"class_func\": classMethod\n",
    "})\n",
    "\n",
    "\n",
    "obj = Geeks(\"constructor argument\")\n",
    "print(obj.constructor_arg)\n",
    "print(obj.string_attribute)\n",
    "print(obj.int_attribute)\n",
    "obj.func_arg(\"Geeks for Geeks\")\n",
    "Geeks.class_func(\"Class Dynamically Created !\")"
   ]
  },
  {
   "cell_type": "code",
   "execution_count": 1,
   "id": "1aa57a8f-a533-4295-81f5-0db71a6c8629",
   "metadata": {},
   "outputs": [],
   "source": [
    "def bark(self):\n",
    "    print('woof')"
   ]
  },
  {
   "cell_type": "code",
   "execution_count": 3,
   "id": "73ff9e4c-90c4-4220-b163-8255d126b320",
   "metadata": {},
   "outputs": [],
   "source": [
    "Dog = type('Dog',(),{'bark':bark})"
   ]
  },
  {
   "cell_type": "code",
   "execution_count": 5,
   "id": "a19271b3-c0c4-41cc-b5e0-dbacad1a8bcb",
   "metadata": {},
   "outputs": [
    {
     "name": "stdout",
     "output_type": "stream",
     "text": [
      "<class '__main__.Dog'>\n"
     ]
    }
   ],
   "source": [
    "p = Dog()\n",
    "print(type(p))"
   ]
  },
  {
   "cell_type": "code",
   "execution_count": 7,
   "id": "eaccc838-5604-44c5-b34d-5dad045a3094",
   "metadata": {},
   "outputs": [
    {
     "name": "stdout",
     "output_type": "stream",
     "text": [
      "woof\n"
     ]
    }
   ],
   "source": [
    "p.bark()"
   ]
  },
  {
   "cell_type": "code",
   "execution_count": 9,
   "id": "922643a1-208d-4796-97d3-43d4bede213f",
   "metadata": {},
   "outputs": [
    {
     "ename": "AttributeError",
     "evalue": "'Constant' object has no attribute '__dict__'",
     "output_type": "error",
     "traceback": [
      "\u001b[1;31m---------------------------------------------------------------------------\u001b[0m",
      "\u001b[1;31mAttributeError\u001b[0m                            Traceback (most recent call last)",
      "Cell \u001b[1;32mIn[9], line 8\u001b[0m\n\u001b[0;32m      5\u001b[0m         \u001b[38;5;28;01mpass\u001b[39;00m\n\u001b[0;32m      7\u001b[0m cons \u001b[38;5;241m=\u001b[39m Constant()\n\u001b[1;32m----> 8\u001b[0m \u001b[38;5;28mprint\u001b[39m(\u001b[43mcons\u001b[49m\u001b[38;5;241;43m.\u001b[39;49m\u001b[38;5;18;43m__dict__\u001b[39;49m)\n",
      "\u001b[1;31mAttributeError\u001b[0m: 'Constant' object has no attribute '__dict__'"
     ]
    }
   ],
   "source": [
    "class Constant(object):\n",
    "    __slots__ = ()\n",
    "    PI = 3.14\n",
    "    def __init__(self):\n",
    "        pass\n",
    "\n",
    "cons = Constant()\n",
    "print(cons.__dict__)"
   ]
  },
  {
   "cell_type": "code",
   "execution_count": 11,
   "id": "1b9d090b-cb59-41f5-8fc1-2578c86a7230",
   "metadata": {},
   "outputs": [
    {
     "name": "stdout",
     "output_type": "stream",
     "text": [
      "White\n"
     ]
    }
   ],
   "source": [
    "class Car2:\n",
    "    __slots__ = ['color','max_speed','model']\n",
    "    def __init__(self, model, color, maxspeed):\n",
    "        self.model = model\n",
    "        self.color = color\n",
    "        self.max_speed = maxspeed\n",
    "\n",
    "pride = Car2('cherry','w',80)\n",
    "pride.color = 'White'\n",
    "print(pride.color)"
   ]
  },
  {
   "cell_type": "code",
   "execution_count": null,
   "id": "99b23732-8a60-47bb-a04e-b506becfd45e",
   "metadata": {},
   "outputs": [],
   "source": [
    "class Constant(object):\n",
    "    pass"
   ]
  }
 ],
 "metadata": {
  "kernelspec": {
   "display_name": "Python 3 (ipykernel)",
   "language": "python",
   "name": "python3"
  },
  "language_info": {
   "codemirror_mode": {
    "name": "ipython",
    "version": 3
   },
   "file_extension": ".py",
   "mimetype": "text/x-python",
   "name": "python",
   "nbconvert_exporter": "python",
   "pygments_lexer": "ipython3",
   "version": "3.12.4"
  }
 },
 "nbformat": 4,
 "nbformat_minor": 5
}
