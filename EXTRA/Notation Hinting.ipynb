{
 "cells": [
  {
   "cell_type": "code",
   "execution_count": 1,
   "id": "569245a3-263e-4351-9d0c-fed2b7a058a3",
   "metadata": {},
   "outputs": [],
   "source": [
    "x: int = 3\n",
    "y: float = 1.2\n",
    "z: bool = True\n",
    "t: None = None\n",
    "s: str = 'Hello'"
   ]
  },
  {
   "cell_type": "code",
   "execution_count": 3,
   "id": "c3d7cd62-0b68-48d7-b907-f129bf54b14c",
   "metadata": {},
   "outputs": [],
   "source": [
    "def function(x: int, y: int) -> int:\n",
    "    return x+y"
   ]
  },
  {
   "cell_type": "code",
   "execution_count": 5,
   "id": "fef36534-055f-49a3-87e8-3b379c129fe6",
   "metadata": {},
   "outputs": [],
   "source": [
    "def function2(x: int, y: int) -> None:\n",
    "    print(x+y)"
   ]
  },
  {
   "cell_type": "code",
   "execution_count": 13,
   "id": "92cf6666-9b8c-4a7c-9062-3b8782dd856f",
   "metadata": {},
   "outputs": [],
   "source": [
    "from typing import List, Dict, Set\n",
    "\n",
    "x: List[List[int]] = [[1,2],[3,4],[0,9,329]]\n",
    "y: Dict[str,int] = {'a':12,'minoo':123}"
   ]
  },
  {
   "cell_type": "code",
   "execution_count": 17,
   "id": "165b27fb-d461-4195-a29e-2f24a7481043",
   "metadata": {},
   "outputs": [
    {
     "data": {
      "text/plain": [
       "True"
      ]
     },
     "execution_count": 17,
     "metadata": {},
     "output_type": "execute_result"
    }
   ],
   "source": [
    "from typing import Optional\n",
    "def func(x: Optional[int] = 2) -> bool:\n",
    "    return True\n",
    "func()"
   ]
  },
  {
   "cell_type": "code",
   "execution_count": 19,
   "id": "883b0810-d669-44dd-aaa8-9804c71cb35b",
   "metadata": {},
   "outputs": [
    {
     "data": {
      "text/plain": [
       "True"
      ]
     },
     "execution_count": 19,
     "metadata": {},
     "output_type": "execute_result"
    }
   ],
   "source": [
    "from typing import Sequence\n",
    "\n",
    "def myfunc(x: Sequence) -> bool:\n",
    "    return True\n",
    "\n",
    "myfunc([1,2,2,3])"
   ]
  },
  {
   "cell_type": "code",
   "execution_count": 21,
   "id": "d477d11c-6d03-41cd-a4f0-9ffdc62a4695",
   "metadata": {},
   "outputs": [],
   "source": [
    "from typing import Callable\n",
    "\n",
    "def func2(func: Callable[[int, int],bool]) -> None:\n",
    "    pass\n",
    "\n",
    "func2(function)"
   ]
  },
  {
   "cell_type": "code",
   "execution_count": null,
   "id": "d0a72bf8-d617-452b-a8fc-bb238049eb88",
   "metadata": {},
   "outputs": [],
   "source": []
  }
 ],
 "metadata": {
  "kernelspec": {
   "display_name": "Python 3 (ipykernel)",
   "language": "python",
   "name": "python3"
  },
  "language_info": {
   "codemirror_mode": {
    "name": "ipython",
    "version": 3
   },
   "file_extension": ".py",
   "mimetype": "text/x-python",
   "name": "python",
   "nbconvert_exporter": "python",
   "pygments_lexer": "ipython3",
   "version": "3.12.4"
  }
 },
 "nbformat": 4,
 "nbformat_minor": 5
}
